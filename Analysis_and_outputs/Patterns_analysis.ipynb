{
 "cells": [
  {
   "cell_type": "code",
   "execution_count": 1,
   "metadata": {},
   "outputs": [],
   "source": [
    "import pandas as pd\n",
    "from datetime import datetime"
   ]
  },
  {
   "cell_type": "code",
   "execution_count": 2,
   "metadata": {},
   "outputs": [],
   "source": [
    "def read_data (filename, header):\n",
    "    df=pd.read_csv(filename, header = None, sep=\",\",names=header)\n",
    "    for col in df.columns:\n",
    "        if df[col].dtype=='O':\n",
    "            df[col]=df[col].apply(lambda x: x.strip('('))\n",
    "            df[col]=df[col].apply(lambda x: x.strip(')'))\n",
    "            df[col]=df[col].apply(lambda x: x.strip('\"'))\n",
    "    return df\n"
   ]
  },
  {
   "cell_type": "markdown",
   "metadata": {},
   "source": [
    "# all"
   ]
  },
  {
   "cell_type": "code",
   "execution_count": 3,
   "metadata": {},
   "outputs": [
    {
     "name": "stdout",
     "output_type": "stream",
     "text": [
      "number of all events:  5589\n"
     ]
    }
   ],
   "source": [
    "all_events=read_data('all_events.txt',['eventType', 'uid', 'ip', 'timestamp', 'impressionId'])\n",
    "print(\"number of all events: \", len(all_events))"
   ]
  },
  {
   "cell_type": "code",
   "execution_count": 4,
   "metadata": {},
   "outputs": [],
   "source": [
    "all_events.sort_values(by=\"timestamp\",inplace=True)"
   ]
  },
  {
   "cell_type": "code",
   "execution_count": 5,
   "metadata": {},
   "outputs": [
    {
     "data": {
      "text/html": [
       "<div>\n",
       "<style scoped>\n",
       "    .dataframe tbody tr th:only-of-type {\n",
       "        vertical-align: middle;\n",
       "    }\n",
       "\n",
       "    .dataframe tbody tr th {\n",
       "        vertical-align: top;\n",
       "    }\n",
       "\n",
       "    .dataframe thead th {\n",
       "        text-align: right;\n",
       "    }\n",
       "</style>\n",
       "<table border=\"1\" class=\"dataframe\">\n",
       "  <thead>\n",
       "    <tr style=\"text-align: right;\">\n",
       "      <th></th>\n",
       "      <th>eventType</th>\n",
       "      <th>uid</th>\n",
       "      <th>ip</th>\n",
       "      <th>timestamp</th>\n",
       "      <th>impressionId</th>\n",
       "    </tr>\n",
       "  </thead>\n",
       "  <tbody>\n",
       "    <tr>\n",
       "      <th>0</th>\n",
       "      <td>display</td>\n",
       "      <td>3a0ce0f4-fb33-45ff-8b5a-c8c2188c1f7d</td>\n",
       "      <td>197.117.214.65</td>\n",
       "      <td>1593784721</td>\n",
       "      <td>98047cd5-8796-4b6a-a419-66b126fabfba</td>\n",
       "    </tr>\n",
       "    <tr>\n",
       "      <th>1184</th>\n",
       "      <td>click</td>\n",
       "      <td>724a6db9-6731-4d88-aac1-f8f24ee1b48314</td>\n",
       "      <td>238.186.83.58</td>\n",
       "      <td>1593784721</td>\n",
       "      <td>b15f9c2b-140d-4c1c-b821-bdbc7f69abfa</td>\n",
       "    </tr>\n",
       "    <tr>\n",
       "      <th>1185</th>\n",
       "      <td>click</td>\n",
       "      <td>3603ee6a-a570-4e52-b8a7-debd44e0b60915</td>\n",
       "      <td>238.186.83.58</td>\n",
       "      <td>1593784721</td>\n",
       "      <td>d07e1be6-b592-4646-9041-bf523594a847</td>\n",
       "    </tr>\n",
       "  </tbody>\n",
       "</table>\n",
       "</div>"
      ],
      "text/plain": [
       "     eventType                                     uid              ip  \\\n",
       "0      display    3a0ce0f4-fb33-45ff-8b5a-c8c2188c1f7d  197.117.214.65   \n",
       "1184     click  724a6db9-6731-4d88-aac1-f8f24ee1b48314   238.186.83.58   \n",
       "1185     click  3603ee6a-a570-4e52-b8a7-debd44e0b60915   238.186.83.58   \n",
       "\n",
       "       timestamp                          impressionId  \n",
       "0     1593784721  98047cd5-8796-4b6a-a419-66b126fabfba  \n",
       "1184  1593784721  b15f9c2b-140d-4c1c-b821-bdbc7f69abfa  \n",
       "1185  1593784721  d07e1be6-b592-4646-9041-bf523594a847  "
      ]
     },
     "execution_count": 5,
     "metadata": {},
     "output_type": "execute_result"
    }
   ],
   "source": [
    "all_events.head(3)"
   ]
  },
  {
   "cell_type": "code",
   "execution_count": 6,
   "metadata": {},
   "outputs": [
    {
     "name": "stdout",
     "output_type": "stream",
     "text": [
      "First timestamp = 2020-07-03 15:58:41\n",
      "Last timestamp = 2020-07-03 16:03:32\n",
      "stream duration:  4.85 minutes\n"
     ]
    }
   ],
   "source": [
    "from datetime import datetime\n",
    "\n",
    "timestamp_1 = int(all_events.iloc[0,3])\n",
    "timestamp_2 = int(all_events.iloc[-1,3])\n",
    "firstTimestamp = datetime.fromtimestamp(timestamp_1)\n",
    "lastTimestamp= datetime.fromtimestamp(timestamp_2)\n",
    "\n",
    "\n",
    "print(\"First timestamp =\", firstTimestamp)\n",
    "print(\"Last timestamp =\", lastTimestamp)\n",
    "\n",
    "print (\"stream duration: \" , (timestamp_2-timestamp_1)/60 , \"minutes\")"
   ]
  },
  {
   "cell_type": "markdown",
   "metadata": {},
   "source": [
    "# Pattern 1\n",
    "\n"
   ]
  },
  {
   "cell_type": "code",
   "execution_count": 7,
   "metadata": {},
   "outputs": [],
   "source": [
    "df_pattern1=read_data('Pattern_1.txt',['ip', \"uid_count\"] )"
   ]
  },
  {
   "cell_type": "code",
   "execution_count": 8,
   "metadata": {},
   "outputs": [
    {
     "data": {
      "text/html": [
       "<div>\n",
       "<style scoped>\n",
       "    .dataframe tbody tr th:only-of-type {\n",
       "        vertical-align: middle;\n",
       "    }\n",
       "\n",
       "    .dataframe tbody tr th {\n",
       "        vertical-align: top;\n",
       "    }\n",
       "\n",
       "    .dataframe thead th {\n",
       "        text-align: right;\n",
       "    }\n",
       "</style>\n",
       "<table border=\"1\" class=\"dataframe\">\n",
       "  <thead>\n",
       "    <tr style=\"text-align: right;\">\n",
       "      <th></th>\n",
       "      <th>ip</th>\n",
       "      <th>uid_count</th>\n",
       "    </tr>\n",
       "  </thead>\n",
       "  <tbody>\n",
       "    <tr>\n",
       "      <th>0</th>\n",
       "      <td>238.186.83.58</td>\n",
       "      <td>17.0</td>\n",
       "    </tr>\n",
       "    <tr>\n",
       "      <th>1</th>\n",
       "      <td>173.108.112.51</td>\n",
       "      <td>3.0</td>\n",
       "    </tr>\n",
       "    <tr>\n",
       "      <th>2</th>\n",
       "      <td>123.238.127.219</td>\n",
       "      <td>5.0</td>\n",
       "    </tr>\n",
       "    <tr>\n",
       "      <th>3</th>\n",
       "      <td>199.255.202.237</td>\n",
       "      <td>4.0</td>\n",
       "    </tr>\n",
       "    <tr>\n",
       "      <th>4</th>\n",
       "      <td>220.177.45.132</td>\n",
       "      <td>3.0</td>\n",
       "    </tr>\n",
       "  </tbody>\n",
       "</table>\n",
       "</div>"
      ],
      "text/plain": [
       "                ip uid_count\n",
       "0    238.186.83.58      17.0\n",
       "1   173.108.112.51       3.0\n",
       "2  123.238.127.219       5.0\n",
       "3  199.255.202.237       4.0\n",
       "4   220.177.45.132       3.0"
      ]
     },
     "execution_count": 8,
     "metadata": {},
     "output_type": "execute_result"
    }
   ],
   "source": [
    "df_pattern1.head()"
   ]
  },
  {
   "cell_type": "markdown",
   "metadata": {},
   "source": [
    "#### Suspicious events using uid"
   ]
  },
  {
   "cell_type": "code",
   "execution_count": 9,
   "metadata": {},
   "outputs": [],
   "source": [
    "events_pattern1=all_events[all_events[\"ip\"].isin(df_pattern1['ip'].values) ]"
   ]
  },
  {
   "cell_type": "code",
   "execution_count": 10,
   "metadata": {},
   "outputs": [
    {
     "data": {
      "text/html": [
       "<div>\n",
       "<style scoped>\n",
       "    .dataframe tbody tr th:only-of-type {\n",
       "        vertical-align: middle;\n",
       "    }\n",
       "\n",
       "    .dataframe tbody tr th {\n",
       "        vertical-align: top;\n",
       "    }\n",
       "\n",
       "    .dataframe thead th {\n",
       "        text-align: right;\n",
       "    }\n",
       "</style>\n",
       "<table border=\"1\" class=\"dataframe\">\n",
       "  <thead>\n",
       "    <tr style=\"text-align: right;\">\n",
       "      <th></th>\n",
       "      <th>eventType</th>\n",
       "      <th>uid</th>\n",
       "      <th>ip</th>\n",
       "      <th>timestamp</th>\n",
       "      <th>impressionId</th>\n",
       "    </tr>\n",
       "  </thead>\n",
       "  <tbody>\n",
       "    <tr>\n",
       "      <th>1184</th>\n",
       "      <td>click</td>\n",
       "      <td>724a6db9-6731-4d88-aac1-f8f24ee1b48314</td>\n",
       "      <td>238.186.83.58</td>\n",
       "      <td>1593784721</td>\n",
       "      <td>b15f9c2b-140d-4c1c-b821-bdbc7f69abfa</td>\n",
       "    </tr>\n",
       "    <tr>\n",
       "      <th>1185</th>\n",
       "      <td>click</td>\n",
       "      <td>3603ee6a-a570-4e52-b8a7-debd44e0b60915</td>\n",
       "      <td>238.186.83.58</td>\n",
       "      <td>1593784721</td>\n",
       "      <td>d07e1be6-b592-4646-9041-bf523594a847</td>\n",
       "    </tr>\n",
       "    <tr>\n",
       "      <th>1186</th>\n",
       "      <td>click</td>\n",
       "      <td>9b4cab60-8aa4-45d6-9beb-65e2616508e316</td>\n",
       "      <td>238.186.83.58</td>\n",
       "      <td>1593784721</td>\n",
       "      <td>95ecd404-13bc-41f4-98ba-dbe51f68148a</td>\n",
       "    </tr>\n",
       "    <tr>\n",
       "      <th>1187</th>\n",
       "      <td>click</td>\n",
       "      <td>dc8e61f4-b2ee-45ce-938f-dff115dfd67817</td>\n",
       "      <td>238.186.83.58</td>\n",
       "      <td>1593784721</td>\n",
       "      <td>479b00d0-0d90-4ae6-87a1-84c415531dbf</td>\n",
       "    </tr>\n",
       "    <tr>\n",
       "      <th>132</th>\n",
       "      <td>display</td>\n",
       "      <td>69163476-567e-40b1-ab2d-f87816ba773f</td>\n",
       "      <td>48.58.70.246</td>\n",
       "      <td>1593784721</td>\n",
       "      <td>4f3432d8-7135-4a02-8cf6-10eeac392e10</td>\n",
       "    </tr>\n",
       "  </tbody>\n",
       "</table>\n",
       "</div>"
      ],
      "text/plain": [
       "     eventType                                     uid             ip  \\\n",
       "1184     click  724a6db9-6731-4d88-aac1-f8f24ee1b48314  238.186.83.58   \n",
       "1185     click  3603ee6a-a570-4e52-b8a7-debd44e0b60915  238.186.83.58   \n",
       "1186     click  9b4cab60-8aa4-45d6-9beb-65e2616508e316  238.186.83.58   \n",
       "1187     click  dc8e61f4-b2ee-45ce-938f-dff115dfd67817  238.186.83.58   \n",
       "132    display    69163476-567e-40b1-ab2d-f87816ba773f   48.58.70.246   \n",
       "\n",
       "       timestamp                          impressionId  \n",
       "1184  1593784721  b15f9c2b-140d-4c1c-b821-bdbc7f69abfa  \n",
       "1185  1593784721  d07e1be6-b592-4646-9041-bf523594a847  \n",
       "1186  1593784721  95ecd404-13bc-41f4-98ba-dbe51f68148a  \n",
       "1187  1593784721  479b00d0-0d90-4ae6-87a1-84c415531dbf  \n",
       "132   1593784721  4f3432d8-7135-4a02-8cf6-10eeac392e10  "
      ]
     },
     "execution_count": 10,
     "metadata": {},
     "output_type": "execute_result"
    }
   ],
   "source": [
    "events_pattern1.head()"
   ]
  },
  {
   "cell_type": "markdown",
   "metadata": {},
   "source": [
    "#### Count of fraudulent events "
   ]
  },
  {
   "cell_type": "code",
   "execution_count": 11,
   "metadata": {},
   "outputs": [
    {
     "name": "stdout",
     "output_type": "stream",
     "text": [
      "number of suspicious events using uid:  822   which represents:  14.71 %\n"
     ]
    }
   ],
   "source": [
    "print(\"number of suspicious events using uid: \", len(events_pattern1), \"  which represents: \" , round(len(events_pattern1)/len(all_events)*100,2) , \"%\")"
   ]
  },
  {
   "cell_type": "markdown",
   "metadata": {},
   "source": [
    "# Pattern 2"
   ]
  },
  {
   "cell_type": "code",
   "execution_count": 12,
   "metadata": {},
   "outputs": [],
   "source": [
    "df_pattern2=read_data('Pattern_2.txt',['uid', \"IP_count\"] )"
   ]
  },
  {
   "cell_type": "code",
   "execution_count": 13,
   "metadata": {},
   "outputs": [
    {
     "data": {
      "text/html": [
       "<div>\n",
       "<style scoped>\n",
       "    .dataframe tbody tr th:only-of-type {\n",
       "        vertical-align: middle;\n",
       "    }\n",
       "\n",
       "    .dataframe tbody tr th {\n",
       "        vertical-align: top;\n",
       "    }\n",
       "\n",
       "    .dataframe thead th {\n",
       "        text-align: right;\n",
       "    }\n",
       "</style>\n",
       "<table border=\"1\" class=\"dataframe\">\n",
       "  <thead>\n",
       "    <tr style=\"text-align: right;\">\n",
       "      <th></th>\n",
       "      <th>uid</th>\n",
       "      <th>IP_count</th>\n",
       "    </tr>\n",
       "  </thead>\n",
       "  <tbody>\n",
       "    <tr>\n",
       "      <th>0</th>\n",
       "      <td>83cfcbdb-4f57-4c8d-84e6-6eb08689b71f</td>\n",
       "      <td>4.0</td>\n",
       "    </tr>\n",
       "    <tr>\n",
       "      <th>1</th>\n",
       "      <td>9d008e5b-e698-4e15-a588-5266e27a426a</td>\n",
       "      <td>3.0</td>\n",
       "    </tr>\n",
       "    <tr>\n",
       "      <th>2</th>\n",
       "      <td>bfa6b92f-8575-45ae-8e43-e55ef28e4516</td>\n",
       "      <td>2.0</td>\n",
       "    </tr>\n",
       "    <tr>\n",
       "      <th>3</th>\n",
       "      <td>7e86def1-79f4-48f9-b1d0-d2f1d512917a</td>\n",
       "      <td>2.0</td>\n",
       "    </tr>\n",
       "    <tr>\n",
       "      <th>4</th>\n",
       "      <td>69163476-567e-40b1-ab2d-f87816ba773f</td>\n",
       "      <td>3.0</td>\n",
       "    </tr>\n",
       "  </tbody>\n",
       "</table>\n",
       "</div>"
      ],
      "text/plain": [
       "                                    uid IP_count\n",
       "0  83cfcbdb-4f57-4c8d-84e6-6eb08689b71f      4.0\n",
       "1  9d008e5b-e698-4e15-a588-5266e27a426a      3.0\n",
       "2  bfa6b92f-8575-45ae-8e43-e55ef28e4516      2.0\n",
       "3  7e86def1-79f4-48f9-b1d0-d2f1d512917a      2.0\n",
       "4  69163476-567e-40b1-ab2d-f87816ba773f      3.0"
      ]
     },
     "execution_count": 13,
     "metadata": {},
     "output_type": "execute_result"
    }
   ],
   "source": [
    "df_pattern2.head()"
   ]
  },
  {
   "cell_type": "markdown",
   "metadata": {},
   "source": [
    "#### Suspicious events using IP address "
   ]
  },
  {
   "cell_type": "code",
   "execution_count": 14,
   "metadata": {},
   "outputs": [],
   "source": [
    "events_pattern2=all_events[all_events[\"uid\"].isin(df_pattern2['uid'].values) ]"
   ]
  },
  {
   "cell_type": "code",
   "execution_count": 15,
   "metadata": {},
   "outputs": [
    {
     "data": {
      "text/html": [
       "<div>\n",
       "<style scoped>\n",
       "    .dataframe tbody tr th:only-of-type {\n",
       "        vertical-align: middle;\n",
       "    }\n",
       "\n",
       "    .dataframe tbody tr th {\n",
       "        vertical-align: top;\n",
       "    }\n",
       "\n",
       "    .dataframe thead th {\n",
       "        text-align: right;\n",
       "    }\n",
       "</style>\n",
       "<table border=\"1\" class=\"dataframe\">\n",
       "  <thead>\n",
       "    <tr style=\"text-align: right;\">\n",
       "      <th></th>\n",
       "      <th>eventType</th>\n",
       "      <th>uid</th>\n",
       "      <th>ip</th>\n",
       "      <th>timestamp</th>\n",
       "      <th>impressionId</th>\n",
       "    </tr>\n",
       "  </thead>\n",
       "  <tbody>\n",
       "    <tr>\n",
       "      <th>0</th>\n",
       "      <td>display</td>\n",
       "      <td>3a0ce0f4-fb33-45ff-8b5a-c8c2188c1f7d</td>\n",
       "      <td>197.117.214.65</td>\n",
       "      <td>1593784721</td>\n",
       "      <td>98047cd5-8796-4b6a-a419-66b126fabfba</td>\n",
       "    </tr>\n",
       "    <tr>\n",
       "      <th>132</th>\n",
       "      <td>display</td>\n",
       "      <td>69163476-567e-40b1-ab2d-f87816ba773f</td>\n",
       "      <td>48.58.70.246</td>\n",
       "      <td>1593784721</td>\n",
       "      <td>4f3432d8-7135-4a02-8cf6-10eeac392e10</td>\n",
       "    </tr>\n",
       "    <tr>\n",
       "      <th>42</th>\n",
       "      <td>display</td>\n",
       "      <td>8d686f56-e58f-4d32-8f59-98822ad0997d</td>\n",
       "      <td>107.22.30.81</td>\n",
       "      <td>1593784721</td>\n",
       "      <td>be99e4bd-eebd-435a-8f00-38b38a283f83</td>\n",
       "    </tr>\n",
       "    <tr>\n",
       "      <th>131</th>\n",
       "      <td>display</td>\n",
       "      <td>9fb7d887-abde-43fe-84d4-65ae6fd1a692</td>\n",
       "      <td>217.252.241.14</td>\n",
       "      <td>1593784721</td>\n",
       "      <td>bf26ab85-e8fc-48c4-bbaf-fea767ab80a1</td>\n",
       "    </tr>\n",
       "    <tr>\n",
       "      <th>26</th>\n",
       "      <td>display</td>\n",
       "      <td>13391b2a-3ef2-4a51-8c9c-5b69496cebc5</td>\n",
       "      <td>40.150.198.199</td>\n",
       "      <td>1593784721</td>\n",
       "      <td>635062ba-9b30-48e0-8638-a999f2a421ac</td>\n",
       "    </tr>\n",
       "  </tbody>\n",
       "</table>\n",
       "</div>"
      ],
      "text/plain": [
       "    eventType                                   uid              ip  \\\n",
       "0     display  3a0ce0f4-fb33-45ff-8b5a-c8c2188c1f7d  197.117.214.65   \n",
       "132   display  69163476-567e-40b1-ab2d-f87816ba773f    48.58.70.246   \n",
       "42    display  8d686f56-e58f-4d32-8f59-98822ad0997d    107.22.30.81   \n",
       "131   display  9fb7d887-abde-43fe-84d4-65ae6fd1a692  217.252.241.14   \n",
       "26    display  13391b2a-3ef2-4a51-8c9c-5b69496cebc5  40.150.198.199   \n",
       "\n",
       "      timestamp                          impressionId  \n",
       "0    1593784721  98047cd5-8796-4b6a-a419-66b126fabfba  \n",
       "132  1593784721  4f3432d8-7135-4a02-8cf6-10eeac392e10  \n",
       "42   1593784721  be99e4bd-eebd-435a-8f00-38b38a283f83  \n",
       "131  1593784721  bf26ab85-e8fc-48c4-bbaf-fea767ab80a1  \n",
       "26   1593784721  635062ba-9b30-48e0-8638-a999f2a421ac  "
      ]
     },
     "execution_count": 15,
     "metadata": {},
     "output_type": "execute_result"
    }
   ],
   "source": [
    "events_pattern2.head()"
   ]
  },
  {
   "cell_type": "markdown",
   "metadata": {},
   "source": [
    "\n",
    "#### Count of fraudulent events \n"
   ]
  },
  {
   "cell_type": "code",
   "execution_count": 16,
   "metadata": {},
   "outputs": [
    {
     "name": "stdout",
     "output_type": "stream",
     "text": [
      "number of suspicious events using uid:  4264   which represents:  76.29 %\n"
     ]
    }
   ],
   "source": [
    "\n",
    "print(\"number of suspicious events using uid: \", len(events_pattern2), \"  which represents: \" , round(len(events_pattern2)/len(all_events)*100,2) , \"%\")"
   ]
  },
  {
   "cell_type": "markdown",
   "metadata": {},
   "source": [
    "# Pattern 3"
   ]
  },
  {
   "cell_type": "code",
   "execution_count": 17,
   "metadata": {},
   "outputs": [],
   "source": [
    "df_pattern3=read_data('Pattern_3.txt',['uid',\"eventType_clicks\", \"clicks_count\",\"eventType_displays\",\"displays_count\", \"CTR\"] )"
   ]
  },
  {
   "cell_type": "code",
   "execution_count": 18,
   "metadata": {},
   "outputs": [
    {
     "data": {
      "text/html": [
       "<div>\n",
       "<style scoped>\n",
       "    .dataframe tbody tr th:only-of-type {\n",
       "        vertical-align: middle;\n",
       "    }\n",
       "\n",
       "    .dataframe tbody tr th {\n",
       "        vertical-align: top;\n",
       "    }\n",
       "\n",
       "    .dataframe thead th {\n",
       "        text-align: right;\n",
       "    }\n",
       "</style>\n",
       "<table border=\"1\" class=\"dataframe\">\n",
       "  <thead>\n",
       "    <tr style=\"text-align: right;\">\n",
       "      <th></th>\n",
       "      <th>uid</th>\n",
       "      <th>eventType_clicks</th>\n",
       "      <th>clicks_count</th>\n",
       "      <th>eventType_displays</th>\n",
       "      <th>displays_count</th>\n",
       "      <th>CTR</th>\n",
       "    </tr>\n",
       "  </thead>\n",
       "  <tbody>\n",
       "    <tr>\n",
       "      <th>0</th>\n",
       "      <td>7e86def1-79f4-48f9-b1d0-d2f1d512917a</td>\n",
       "      <td>click</td>\n",
       "      <td>5.0</td>\n",
       "      <td>display</td>\n",
       "      <td>5.0</td>\n",
       "      <td>1.0</td>\n",
       "    </tr>\n",
       "    <tr>\n",
       "      <th>1</th>\n",
       "      <td>93ecae95-b510-459b-8460-ad2fc22a570e</td>\n",
       "      <td>click</td>\n",
       "      <td>8.0</td>\n",
       "      <td>display</td>\n",
       "      <td>12.0</td>\n",
       "      <td>0.6666666666666666</td>\n",
       "    </tr>\n",
       "    <tr>\n",
       "      <th>2</th>\n",
       "      <td>d96d864f-1656-4ba0-8ed1-ca53f73cb002</td>\n",
       "      <td>click</td>\n",
       "      <td>4.0</td>\n",
       "      <td>display</td>\n",
       "      <td>4.0</td>\n",
       "      <td>1.0</td>\n",
       "    </tr>\n",
       "    <tr>\n",
       "      <th>3</th>\n",
       "      <td>f1546e28-3a17-4dfd-a767-036e4d514394</td>\n",
       "      <td>click</td>\n",
       "      <td>3.0</td>\n",
       "      <td>display</td>\n",
       "      <td>5.0</td>\n",
       "      <td>0.6</td>\n",
       "    </tr>\n",
       "    <tr>\n",
       "      <th>4</th>\n",
       "      <td>d976ae8b-d16d-4907-86c0-2057a107ef81</td>\n",
       "      <td>click</td>\n",
       "      <td>8.0</td>\n",
       "      <td>display</td>\n",
       "      <td>4.0</td>\n",
       "      <td>2.0</td>\n",
       "    </tr>\n",
       "  </tbody>\n",
       "</table>\n",
       "</div>"
      ],
      "text/plain": [
       "                                    uid eventType_clicks  clicks_count  \\\n",
       "0  7e86def1-79f4-48f9-b1d0-d2f1d512917a            click           5.0   \n",
       "1  93ecae95-b510-459b-8460-ad2fc22a570e            click           8.0   \n",
       "2  d96d864f-1656-4ba0-8ed1-ca53f73cb002            click           4.0   \n",
       "3  f1546e28-3a17-4dfd-a767-036e4d514394            click           3.0   \n",
       "4  d976ae8b-d16d-4907-86c0-2057a107ef81            click           8.0   \n",
       "\n",
       "  eventType_displays  displays_count                 CTR  \n",
       "0            display             5.0                 1.0  \n",
       "1            display            12.0  0.6666666666666666  \n",
       "2            display             4.0                 1.0  \n",
       "3            display             5.0                 0.6  \n",
       "4            display             4.0                 2.0  "
      ]
     },
     "execution_count": 18,
     "metadata": {},
     "output_type": "execute_result"
    }
   ],
   "source": [
    "df_pattern3.head()"
   ]
  },
  {
   "cell_type": "markdown",
   "metadata": {},
   "source": [
    "#### Suspicious events with a suspicious CTR "
   ]
  },
  {
   "cell_type": "code",
   "execution_count": 19,
   "metadata": {},
   "outputs": [],
   "source": [
    "events_pattern3=all_events[all_events[\"uid\"].isin(df_pattern3['uid'].values) ]"
   ]
  },
  {
   "cell_type": "code",
   "execution_count": 20,
   "metadata": {},
   "outputs": [
    {
     "data": {
      "text/html": [
       "<div>\n",
       "<style scoped>\n",
       "    .dataframe tbody tr th:only-of-type {\n",
       "        vertical-align: middle;\n",
       "    }\n",
       "\n",
       "    .dataframe tbody tr th {\n",
       "        vertical-align: top;\n",
       "    }\n",
       "\n",
       "    .dataframe thead th {\n",
       "        text-align: right;\n",
       "    }\n",
       "</style>\n",
       "<table border=\"1\" class=\"dataframe\">\n",
       "  <thead>\n",
       "    <tr style=\"text-align: right;\">\n",
       "      <th></th>\n",
       "      <th>eventType</th>\n",
       "      <th>uid</th>\n",
       "      <th>ip</th>\n",
       "      <th>timestamp</th>\n",
       "      <th>impressionId</th>\n",
       "    </tr>\n",
       "  </thead>\n",
       "  <tbody>\n",
       "    <tr>\n",
       "      <th>26</th>\n",
       "      <td>display</td>\n",
       "      <td>13391b2a-3ef2-4a51-8c9c-5b69496cebc5</td>\n",
       "      <td>40.150.198.199</td>\n",
       "      <td>1593784721</td>\n",
       "      <td>635062ba-9b30-48e0-8638-a999f2a421ac</td>\n",
       "    </tr>\n",
       "    <tr>\n",
       "      <th>1190</th>\n",
       "      <td>click</td>\n",
       "      <td>d976ae8b-d16d-4907-86c0-2057a107ef81</td>\n",
       "      <td>227.50.143.57</td>\n",
       "      <td>1593784721</td>\n",
       "      <td>49c89e4c-8a78-4ab3-a9b3-e8c09667b8d4</td>\n",
       "    </tr>\n",
       "    <tr>\n",
       "      <th>1191</th>\n",
       "      <td>click</td>\n",
       "      <td>83cfcbdb-4f57-4c8d-84e6-6eb08689b71f</td>\n",
       "      <td>226.237.73.38</td>\n",
       "      <td>1593784721</td>\n",
       "      <td>418aca17-b504-4208-a79c-0d9b55e12540</td>\n",
       "    </tr>\n",
       "    <tr>\n",
       "      <th>77</th>\n",
       "      <td>display</td>\n",
       "      <td>40a1a99e-7472-431c-ad32-8ef85060b179</td>\n",
       "      <td>198.240.24.62</td>\n",
       "      <td>1593784721</td>\n",
       "      <td>046958cf-3855-4808-b43e-1dc089fab701</td>\n",
       "    </tr>\n",
       "    <tr>\n",
       "      <th>78</th>\n",
       "      <td>display</td>\n",
       "      <td>9d895d87-347b-4e75-b819-71d847dd664b</td>\n",
       "      <td>220.177.45.132</td>\n",
       "      <td>1593784721</td>\n",
       "      <td>a6338b6d-4cb8-458e-b711-8b4231bb2771</td>\n",
       "    </tr>\n",
       "  </tbody>\n",
       "</table>\n",
       "</div>"
      ],
      "text/plain": [
       "     eventType                                   uid              ip  \\\n",
       "26     display  13391b2a-3ef2-4a51-8c9c-5b69496cebc5  40.150.198.199   \n",
       "1190     click  d976ae8b-d16d-4907-86c0-2057a107ef81   227.50.143.57   \n",
       "1191     click  83cfcbdb-4f57-4c8d-84e6-6eb08689b71f   226.237.73.38   \n",
       "77     display  40a1a99e-7472-431c-ad32-8ef85060b179   198.240.24.62   \n",
       "78     display  9d895d87-347b-4e75-b819-71d847dd664b  220.177.45.132   \n",
       "\n",
       "       timestamp                          impressionId  \n",
       "26    1593784721  635062ba-9b30-48e0-8638-a999f2a421ac  \n",
       "1190  1593784721  49c89e4c-8a78-4ab3-a9b3-e8c09667b8d4  \n",
       "1191  1593784721  418aca17-b504-4208-a79c-0d9b55e12540  \n",
       "77    1593784721  046958cf-3855-4808-b43e-1dc089fab701  \n",
       "78    1593784721  a6338b6d-4cb8-458e-b711-8b4231bb2771  "
      ]
     },
     "execution_count": 20,
     "metadata": {},
     "output_type": "execute_result"
    }
   ],
   "source": [
    "events_pattern3.head()"
   ]
  },
  {
   "cell_type": "markdown",
   "metadata": {},
   "source": [
    "\n",
    "\n",
    "#### Count of fraudulent events "
   ]
  },
  {
   "cell_type": "code",
   "execution_count": 21,
   "metadata": {},
   "outputs": [
    {
     "name": "stdout",
     "output_type": "stream",
     "text": [
      "number of suspicious events using uid:  2003   which represents:  35.84 %\n"
     ]
    }
   ],
   "source": [
    "print(\"number of suspicious events using uid: \", len(events_pattern3), \"  which represents: \" , round(len(events_pattern3)/len(all_events)*100,2) , \"%\")"
   ]
  }
 ],
 "metadata": {
  "kernelspec": {
   "display_name": "Python 3",
   "language": "python",
   "name": "python3"
  },
  "language_info": {
   "codemirror_mode": {
    "name": "ipython",
    "version": 3
   },
   "file_extension": ".py",
   "mimetype": "text/x-python",
   "name": "python",
   "nbconvert_exporter": "python",
   "pygments_lexer": "ipython3",
   "version": "3.7.6"
  }
 },
 "nbformat": 4,
 "nbformat_minor": 4
}
