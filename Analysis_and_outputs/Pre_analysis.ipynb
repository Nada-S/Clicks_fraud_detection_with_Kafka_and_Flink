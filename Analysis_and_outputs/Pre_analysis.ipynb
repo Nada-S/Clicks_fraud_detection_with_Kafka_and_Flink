{
 "cells": [
  {
   "cell_type": "code",
   "execution_count": 1,
   "metadata": {},
   "outputs": [],
   "source": [
    "import json\n",
    "import numpy as np\n",
    "import pandas as pd"
   ]
  },
  {
   "cell_type": "code",
   "execution_count": 2,
   "metadata": {},
   "outputs": [],
   "source": [
    "with open('output2.json') as json_data:\n",
    "    output = json.load(json_data)"
   ]
  },
  {
   "cell_type": "code",
   "execution_count": 3,
   "metadata": {},
   "outputs": [],
   "source": [
    "df_output=pd.DataFrame.from_dict(output)"
   ]
  },
  {
   "cell_type": "code",
   "execution_count": 4,
   "metadata": {},
   "outputs": [],
   "source": [
    "df_output.sort_values(by='timestamp', inplace=True)\n",
    "str_cols=[\"eventType\",\"uid\",\"impressionId\"]\n",
    "for col in str_cols:\n",
    "    df_output[col]=df_output[col].astype(str)\n",
    "   \n"
   ]
  },
  {
   "cell_type": "code",
   "execution_count": 5,
   "metadata": {},
   "outputs": [
    {
     "data": {
      "text/html": [
       "<div>\n",
       "<style scoped>\n",
       "    .dataframe tbody tr th:only-of-type {\n",
       "        vertical-align: middle;\n",
       "    }\n",
       "\n",
       "    .dataframe tbody tr th {\n",
       "        vertical-align: top;\n",
       "    }\n",
       "\n",
       "    .dataframe thead th {\n",
       "        text-align: right;\n",
       "    }\n",
       "</style>\n",
       "<table border=\"1\" class=\"dataframe\">\n",
       "  <thead>\n",
       "    <tr style=\"text-align: right;\">\n",
       "      <th></th>\n",
       "      <th>eventType</th>\n",
       "      <th>uid</th>\n",
       "      <th>timestamp</th>\n",
       "      <th>ip</th>\n",
       "      <th>impressionId</th>\n",
       "    </tr>\n",
       "  </thead>\n",
       "  <tbody>\n",
       "    <tr>\n",
       "      <th>0</th>\n",
       "      <td>display</td>\n",
       "      <td>6a70dfc6-c32a-4ac2-9aa9-333ba8b92f23</td>\n",
       "      <td>1589157579</td>\n",
       "      <td>152.123.63.26</td>\n",
       "      <td>1bf5b860-f9fa-481d-9b89-60f2d278bb71</td>\n",
       "    </tr>\n",
       "    <tr>\n",
       "      <th>11</th>\n",
       "      <td>display</td>\n",
       "      <td>ba9dc386-4761-47ab-b3cd-aff0c51169b3</td>\n",
       "      <td>1589157581</td>\n",
       "      <td>32.134.155.53</td>\n",
       "      <td>7f410710-42ef-4b12-860a-ceea45a3034a</td>\n",
       "    </tr>\n",
       "    <tr>\n",
       "      <th>10</th>\n",
       "      <td>display</td>\n",
       "      <td>d538463c-fb0d-4b9b-9e64-4f74f483e5e2</td>\n",
       "      <td>1589157581</td>\n",
       "      <td>120.37.17.159</td>\n",
       "      <td>7c0dff2b-23c5-424b-b50d-055c5957acb0</td>\n",
       "    </tr>\n",
       "    <tr>\n",
       "      <th>8</th>\n",
       "      <td>display</td>\n",
       "      <td>e306fae1-8655-4b7b-94ff-41ebe09262d2</td>\n",
       "      <td>1589157581</td>\n",
       "      <td>163.135.203.240</td>\n",
       "      <td>bdda29f2-bd52-4512-9ad0-5d0a8cc88db1</td>\n",
       "    </tr>\n",
       "    <tr>\n",
       "      <th>7</th>\n",
       "      <td>display</td>\n",
       "      <td>ec9e211a-3a53-411a-8abf-bd31ffdc87b6</td>\n",
       "      <td>1589157581</td>\n",
       "      <td>197.40.27.215</td>\n",
       "      <td>de5f3557-5d5d-4b8c-988f-61d6c52539b9</td>\n",
       "    </tr>\n",
       "  </tbody>\n",
       "</table>\n",
       "</div>"
      ],
      "text/plain": [
       "   eventType                                   uid   timestamp  \\\n",
       "0    display  6a70dfc6-c32a-4ac2-9aa9-333ba8b92f23  1589157579   \n",
       "11   display  ba9dc386-4761-47ab-b3cd-aff0c51169b3  1589157581   \n",
       "10   display  d538463c-fb0d-4b9b-9e64-4f74f483e5e2  1589157581   \n",
       "8    display  e306fae1-8655-4b7b-94ff-41ebe09262d2  1589157581   \n",
       "7    display  ec9e211a-3a53-411a-8abf-bd31ffdc87b6  1589157581   \n",
       "\n",
       "                 ip                          impressionId  \n",
       "0     152.123.63.26  1bf5b860-f9fa-481d-9b89-60f2d278bb71  \n",
       "11    32.134.155.53  7f410710-42ef-4b12-860a-ceea45a3034a  \n",
       "10    120.37.17.159  7c0dff2b-23c5-424b-b50d-055c5957acb0  \n",
       "8   163.135.203.240  bdda29f2-bd52-4512-9ad0-5d0a8cc88db1  \n",
       "7     197.40.27.215  de5f3557-5d5d-4b8c-988f-61d6c52539b9  "
      ]
     },
     "execution_count": 5,
     "metadata": {},
     "output_type": "execute_result"
    }
   ],
   "source": [
    "df_output.head()"
   ]
  },
  {
   "cell_type": "code",
   "execution_count": 6,
   "metadata": {},
   "outputs": [
    {
     "data": {
      "text/plain": [
       "(1986, 5)"
      ]
     },
     "execution_count": 6,
     "metadata": {},
     "output_type": "execute_result"
    }
   ],
   "source": [
    "df_output.shape"
   ]
  },
  {
   "cell_type": "markdown",
   "metadata": {},
   "source": [
    "# Données\n",
    "The data correspond to clicks and display events of advertising banners on a website  \n",
    "These data were read in streaming from Kafka, we stored 2 min of stream in order to analyze them.  \n",
    "The purpose of these analyzes is to detect fraudulent click activity on advertisements.  \n",
    "\n",
    "\n",
    "The generated variables are:  \n",
    "\n",
    "__EventType__ =which gives us the type of the event display or click.  \n",
    "__uid__  = user Id which associates an Id to a user by browser.    \n",
    "__timestamp__ = The time when the event (click or display) happened on the website  \n",
    "__ip__ = is the ip address that generated the event  \n",
    "__impressionId__= identifier of the advertising display\n",
    "\n"
   ]
  },
  {
   "cell_type": "code",
   "execution_count": 7,
   "metadata": {},
   "outputs": [
    {
     "name": "stdout",
     "output_type": "stream",
     "text": [
      "First timestamp = 2020-05-11 02:39:39\n",
      "Last timestamp = 2020-05-11 02:41:29\n"
     ]
    },
    {
     "data": {
      "text/plain": [
       "110"
      ]
     },
     "execution_count": 7,
     "metadata": {},
     "output_type": "execute_result"
    }
   ],
   "source": [
    "from datetime import datetime\n",
    "\n",
    "timestamp_1 = int(df_output.iloc[0,2])\n",
    "timestamp_2 = int(df_output.iloc[-1,2])\n",
    "firstTimestamp = datetime.fromtimestamp(timestamp_1)\n",
    "lastTimestamp= datetime.fromtimestamp(timestamp_2)\n",
    "\n",
    "\n",
    "print(\"First timestamp =\", firstTimestamp)\n",
    "print(\"Last timestamp =\", lastTimestamp)\n",
    "\n",
    "timestamp_2-timestamp_1"
   ]
  },
  {
   "cell_type": "markdown",
   "metadata": {},
   "source": [
    "The data corresponds to 110 seconds of streaming events"
   ]
  },
  {
   "cell_type": "markdown",
   "metadata": {},
   "source": [
    "# Data analysis:"
   ]
  },
  {
   "cell_type": "markdown",
   "metadata": {},
   "source": [
    "## <font color='red'> Ip adress VS uid </font>\n",
    "here we want to know how many user ids correspond to a unique IP "
   ]
  },
  {
   "cell_type": "code",
   "execution_count": 8,
   "metadata": {},
   "outputs": [],
   "source": [
    "Ip_uid=df_output[[\"ip\",\"uid\"]].groupby(\"ip\").count()"
   ]
  },
  {
   "cell_type": "code",
   "execution_count": 9,
   "metadata": {},
   "outputs": [],
   "source": [
    "Ip_uid=df_output[[\"ip\",\"uid\"]].groupby(\"ip\").count().sort_values(by=\"uid\", ascending=False)"
   ]
  },
  {
   "cell_type": "code",
   "execution_count": 10,
   "metadata": {},
   "outputs": [
    {
     "data": {
      "text/html": [
       "<div>\n",
       "<style scoped>\n",
       "    .dataframe tbody tr th:only-of-type {\n",
       "        vertical-align: middle;\n",
       "    }\n",
       "\n",
       "    .dataframe tbody tr th {\n",
       "        vertical-align: top;\n",
       "    }\n",
       "\n",
       "    .dataframe thead th {\n",
       "        text-align: right;\n",
       "    }\n",
       "</style>\n",
       "<table border=\"1\" class=\"dataframe\">\n",
       "  <thead>\n",
       "    <tr style=\"text-align: right;\">\n",
       "      <th></th>\n",
       "      <th>uid</th>\n",
       "    </tr>\n",
       "    <tr>\n",
       "      <th>ip</th>\n",
       "      <th></th>\n",
       "    </tr>\n",
       "  </thead>\n",
       "  <tbody>\n",
       "    <tr>\n",
       "      <th>238.186.83.58</th>\n",
       "      <td>219</td>\n",
       "    </tr>\n",
       "    <tr>\n",
       "      <th>110.50.254.26</th>\n",
       "      <td>6</td>\n",
       "    </tr>\n",
       "  </tbody>\n",
       "</table>\n",
       "</div>"
      ],
      "text/plain": [
       "               uid\n",
       "ip                \n",
       "238.186.83.58  219\n",
       "110.50.254.26    6"
      ]
     },
     "execution_count": 10,
     "metadata": {},
     "output_type": "execute_result"
    }
   ],
   "source": [
    "Ip_uid.head(2)"
   ]
  },
  {
   "cell_type": "code",
   "execution_count": 11,
   "metadata": {},
   "outputs": [
    {
     "data": {
      "text/html": [
       "<div>\n",
       "<style scoped>\n",
       "    .dataframe tbody tr th:only-of-type {\n",
       "        vertical-align: middle;\n",
       "    }\n",
       "\n",
       "    .dataframe tbody tr th {\n",
       "        vertical-align: top;\n",
       "    }\n",
       "\n",
       "    .dataframe thead th {\n",
       "        text-align: right;\n",
       "    }\n",
       "</style>\n",
       "<table border=\"1\" class=\"dataframe\">\n",
       "  <thead>\n",
       "    <tr style=\"text-align: right;\">\n",
       "      <th></th>\n",
       "      <th>uid</th>\n",
       "    </tr>\n",
       "  </thead>\n",
       "  <tbody>\n",
       "    <tr>\n",
       "      <th>count</th>\n",
       "      <td>1321.000000</td>\n",
       "    </tr>\n",
       "    <tr>\n",
       "      <th>mean</th>\n",
       "      <td>1.503407</td>\n",
       "    </tr>\n",
       "    <tr>\n",
       "      <th>std</th>\n",
       "      <td>6.015651</td>\n",
       "    </tr>\n",
       "    <tr>\n",
       "      <th>min</th>\n",
       "      <td>1.000000</td>\n",
       "    </tr>\n",
       "    <tr>\n",
       "      <th>25%</th>\n",
       "      <td>1.000000</td>\n",
       "    </tr>\n",
       "    <tr>\n",
       "      <th>50%</th>\n",
       "      <td>1.000000</td>\n",
       "    </tr>\n",
       "    <tr>\n",
       "      <th>75%</th>\n",
       "      <td>2.000000</td>\n",
       "    </tr>\n",
       "    <tr>\n",
       "      <th>max</th>\n",
       "      <td>219.000000</td>\n",
       "    </tr>\n",
       "  </tbody>\n",
       "</table>\n",
       "</div>"
      ],
      "text/plain": [
       "               uid\n",
       "count  1321.000000\n",
       "mean      1.503407\n",
       "std       6.015651\n",
       "min       1.000000\n",
       "25%       1.000000\n",
       "50%       1.000000\n",
       "75%       2.000000\n",
       "max     219.000000"
      ]
     },
     "execution_count": 11,
     "metadata": {},
     "output_type": "execute_result"
    }
   ],
   "source": [
    "Ip_uid.describe()"
   ]
  },
  {
   "cell_type": "markdown",
   "metadata": {},
   "source": [
    "__With 2 min of stream, 75% of ip addresses have 2 different user IDs, which can be considered as normal because the user ID changes if you change the browser. But a browser change more than 2 times in two minutes is suspicious and therefore wa can consider it as suspicious__"
   ]
  },
  {
   "cell_type": "code",
   "execution_count": 12,
   "metadata": {},
   "outputs": [
    {
     "name": "stdout",
     "output_type": "stream",
     "text": [
      "number of fraudulent events via a suspicious Uid detection:  42\n"
     ]
    }
   ],
   "source": [
    "print(\"number of fraudulent events via a suspicious Uid detection: \" , len(Ip_uid[Ip_uid[\"uid\"]>2]))"
   ]
  },
  {
   "cell_type": "markdown",
   "metadata": {},
   "source": [
    "## <font color='red'> Uid vs ip Adress </font>\n",
    "here we want to know how many IPs correspond to a unique UID"
   ]
  },
  {
   "cell_type": "code",
   "execution_count": 13,
   "metadata": {},
   "outputs": [],
   "source": [
    "uid_ip=df_output[[\"uid\",\"ip\"]].groupby(\"uid\").count()"
   ]
  },
  {
   "cell_type": "code",
   "execution_count": 14,
   "metadata": {},
   "outputs": [],
   "source": [
    "uid_ip=df_output[[\"uid\",\"ip\"]].groupby(\"uid\").count().sort_values(by=\"ip\", ascending=False)"
   ]
  },
  {
   "cell_type": "code",
   "execution_count": 15,
   "metadata": {},
   "outputs": [
    {
     "data": {
      "text/html": [
       "<div>\n",
       "<style scoped>\n",
       "    .dataframe tbody tr th:only-of-type {\n",
       "        vertical-align: middle;\n",
       "    }\n",
       "\n",
       "    .dataframe tbody tr th {\n",
       "        vertical-align: top;\n",
       "    }\n",
       "\n",
       "    .dataframe thead th {\n",
       "        text-align: right;\n",
       "    }\n",
       "</style>\n",
       "<table border=\"1\" class=\"dataframe\">\n",
       "  <thead>\n",
       "    <tr style=\"text-align: right;\">\n",
       "      <th></th>\n",
       "      <th>ip</th>\n",
       "    </tr>\n",
       "    <tr>\n",
       "      <th>uid</th>\n",
       "      <th></th>\n",
       "    </tr>\n",
       "  </thead>\n",
       "  <tbody>\n",
       "    <tr>\n",
       "      <th>f978c855-1fd0-4bf3-88a6-9d8dcbdbb7e0</th>\n",
       "      <td>32</td>\n",
       "    </tr>\n",
       "    <tr>\n",
       "      <th>ef74484e-b906-430a-a50a-87c2cba511cb</th>\n",
       "      <td>29</td>\n",
       "    </tr>\n",
       "    <tr>\n",
       "      <th>8b14b017-31de-46d3-8d0c-b7b04b78de9b</th>\n",
       "      <td>27</td>\n",
       "    </tr>\n",
       "    <tr>\n",
       "      <th>6106c6b7-31f4-4647-a777-e1a529b79bc4</th>\n",
       "      <td>27</td>\n",
       "    </tr>\n",
       "    <tr>\n",
       "      <th>3efe8e27-6f57-4428-81db-ed88e2e67279</th>\n",
       "      <td>26</td>\n",
       "    </tr>\n",
       "  </tbody>\n",
       "</table>\n",
       "</div>"
      ],
      "text/plain": [
       "                                      ip\n",
       "uid                                     \n",
       "f978c855-1fd0-4bf3-88a6-9d8dcbdbb7e0  32\n",
       "ef74484e-b906-430a-a50a-87c2cba511cb  29\n",
       "8b14b017-31de-46d3-8d0c-b7b04b78de9b  27\n",
       "6106c6b7-31f4-4647-a777-e1a529b79bc4  27\n",
       "3efe8e27-6f57-4428-81db-ed88e2e67279  26"
      ]
     },
     "execution_count": 15,
     "metadata": {},
     "output_type": "execute_result"
    }
   ],
   "source": [
    "uid_ip.head()"
   ]
  },
  {
   "cell_type": "code",
   "execution_count": 16,
   "metadata": {},
   "outputs": [
    {
     "data": {
      "text/html": [
       "<div>\n",
       "<style scoped>\n",
       "    .dataframe tbody tr th:only-of-type {\n",
       "        vertical-align: middle;\n",
       "    }\n",
       "\n",
       "    .dataframe tbody tr th {\n",
       "        vertical-align: top;\n",
       "    }\n",
       "\n",
       "    .dataframe thead th {\n",
       "        text-align: right;\n",
       "    }\n",
       "</style>\n",
       "<table border=\"1\" class=\"dataframe\">\n",
       "  <thead>\n",
       "    <tr style=\"text-align: right;\">\n",
       "      <th></th>\n",
       "      <th>ip</th>\n",
       "    </tr>\n",
       "  </thead>\n",
       "  <tbody>\n",
       "    <tr>\n",
       "      <th>count</th>\n",
       "      <td>875.000000</td>\n",
       "    </tr>\n",
       "    <tr>\n",
       "      <th>mean</th>\n",
       "      <td>2.269714</td>\n",
       "    </tr>\n",
       "    <tr>\n",
       "      <th>std</th>\n",
       "      <td>4.568866</td>\n",
       "    </tr>\n",
       "    <tr>\n",
       "      <th>min</th>\n",
       "      <td>1.000000</td>\n",
       "    </tr>\n",
       "    <tr>\n",
       "      <th>25%</th>\n",
       "      <td>1.000000</td>\n",
       "    </tr>\n",
       "    <tr>\n",
       "      <th>50%</th>\n",
       "      <td>1.000000</td>\n",
       "    </tr>\n",
       "    <tr>\n",
       "      <th>75%</th>\n",
       "      <td>1.000000</td>\n",
       "    </tr>\n",
       "    <tr>\n",
       "      <th>max</th>\n",
       "      <td>32.000000</td>\n",
       "    </tr>\n",
       "  </tbody>\n",
       "</table>\n",
       "</div>"
      ],
      "text/plain": [
       "               ip\n",
       "count  875.000000\n",
       "mean     2.269714\n",
       "std      4.568866\n",
       "min      1.000000\n",
       "25%      1.000000\n",
       "50%      1.000000\n",
       "75%      1.000000\n",
       "max     32.000000"
      ]
     },
     "execution_count": 16,
     "metadata": {},
     "output_type": "execute_result"
    }
   ],
   "source": [
    "uid_ip.describe()"
   ]
  },
  {
   "cell_type": "markdown",
   "metadata": {},
   "source": [
    "__with stream of 2min, 75% of user IDs have a single IP address, a user ID that has more than one IP address is supicious. We choose to consider this pattern as fraudulent__"
   ]
  },
  {
   "cell_type": "code",
   "execution_count": 17,
   "metadata": {},
   "outputs": [
    {
     "name": "stdout",
     "output_type": "stream",
     "text": [
      "number of fraudulent events via a suspicious Uid detection:  202\n"
     ]
    }
   ],
   "source": [
    "print(\"number of fraudulent events via a suspicious Uid detection: \" , len(uid_ip[uid_ip[\"ip\"]>1]))"
   ]
  },
  {
   "cell_type": "markdown",
   "metadata": {},
   "source": [
    "##  <font color='red'> CTR : Click Through Rate </font>"
   ]
  },
  {
   "cell_type": "code",
   "execution_count": 18,
   "metadata": {},
   "outputs": [
    {
     "name": "stderr",
     "output_type": "stream",
     "text": [
      "C:\\Users\\33664\\anaconda3\\lib\\site-packages\\ipykernel_launcher.py:4: SettingWithCopyWarning: \n",
      "A value is trying to be set on a copy of a slice from a DataFrame.\n",
      "Try using .loc[row_indexer,col_indexer] = value instead\n",
      "\n",
      "See the caveats in the documentation: https://pandas.pydata.org/pandas-docs/stable/user_guide/indexing.html#returning-a-view-versus-a-copy\n",
      "  after removing the cwd from sys.path.\n"
     ]
    },
    {
     "data": {
      "text/html": [
       "<div>\n",
       "<style scoped>\n",
       "    .dataframe tbody tr th:only-of-type {\n",
       "        vertical-align: middle;\n",
       "    }\n",
       "\n",
       "    .dataframe tbody tr th {\n",
       "        vertical-align: top;\n",
       "    }\n",
       "\n",
       "    .dataframe thead th {\n",
       "        text-align: right;\n",
       "    }\n",
       "</style>\n",
       "<table border=\"1\" class=\"dataframe\">\n",
       "  <thead>\n",
       "    <tr style=\"text-align: right;\">\n",
       "      <th></th>\n",
       "      <th>eventType</th>\n",
       "      <th>uid</th>\n",
       "      <th>timestamp</th>\n",
       "      <th>ip</th>\n",
       "      <th>impressionId</th>\n",
       "      <th>clicks_count</th>\n",
       "    </tr>\n",
       "  </thead>\n",
       "  <tbody>\n",
       "    <tr>\n",
       "      <th>56</th>\n",
       "      <td>click</td>\n",
       "      <td>a7c33f8c-6d4a-440f-aa0c-7c2ae31a443d18</td>\n",
       "      <td>1589157584</td>\n",
       "      <td>238.186.83.58</td>\n",
       "      <td>4690514b-238c-4ce5-a828-ef6041d76956</td>\n",
       "      <td>1</td>\n",
       "    </tr>\n",
       "    <tr>\n",
       "      <th>58</th>\n",
       "      <td>click</td>\n",
       "      <td>2d265efd-98a0-4f52-918d-67371a38b58e19</td>\n",
       "      <td>1589157584</td>\n",
       "      <td>238.186.83.58</td>\n",
       "      <td>c1b24a1f-f743-4a33-99db-54ebd9ee898a</td>\n",
       "      <td>1</td>\n",
       "    </tr>\n",
       "  </tbody>\n",
       "</table>\n",
       "</div>"
      ],
      "text/plain": [
       "   eventType                                     uid   timestamp  \\\n",
       "56     click  a7c33f8c-6d4a-440f-aa0c-7c2ae31a443d18  1589157584   \n",
       "58     click  2d265efd-98a0-4f52-918d-67371a38b58e19  1589157584   \n",
       "\n",
       "               ip                          impressionId  clicks_count  \n",
       "56  238.186.83.58  4690514b-238c-4ce5-a828-ef6041d76956             1  \n",
       "58  238.186.83.58  c1b24a1f-f743-4a33-99db-54ebd9ee898a             1  "
      ]
     },
     "execution_count": 18,
     "metadata": {},
     "output_type": "execute_result"
    }
   ],
   "source": [
    "#split of the dataframe by clicks and displays\n",
    "\n",
    "df_clicks = df_output[df_output['eventType']==\"click\"]\n",
    "df_clicks[\"clicks_count\"]=1\n",
    "df_clicks.head(2)"
   ]
  },
  {
   "cell_type": "code",
   "execution_count": 19,
   "metadata": {},
   "outputs": [
    {
     "data": {
      "text/plain": [
       "(446, 6)"
      ]
     },
     "execution_count": 19,
     "metadata": {},
     "output_type": "execute_result"
    }
   ],
   "source": [
    "df_clicks.shape"
   ]
  },
  {
   "cell_type": "code",
   "execution_count": 20,
   "metadata": {},
   "outputs": [
    {
     "name": "stderr",
     "output_type": "stream",
     "text": [
      "C:\\Users\\33664\\anaconda3\\lib\\site-packages\\ipykernel_launcher.py:2: SettingWithCopyWarning: \n",
      "A value is trying to be set on a copy of a slice from a DataFrame.\n",
      "Try using .loc[row_indexer,col_indexer] = value instead\n",
      "\n",
      "See the caveats in the documentation: https://pandas.pydata.org/pandas-docs/stable/user_guide/indexing.html#returning-a-view-versus-a-copy\n",
      "  \n"
     ]
    },
    {
     "data": {
      "text/plain": [
       "(1540, 6)"
      ]
     },
     "execution_count": 20,
     "metadata": {},
     "output_type": "execute_result"
    }
   ],
   "source": [
    "df_displays = df_output[df_output['eventType']==\"display\"]\n",
    "df_displays[\"displays_count\"]=1\n",
    "df_displays.shape"
   ]
  },
  {
   "cell_type": "markdown",
   "metadata": {},
   "source": [
    "###  <font color='green'> CTR per User ID</font>\n",
    "\n",
    "clicks_count/displays_count per uid  \n",
    "\n",
    "We choose to calculate the CTR per Uid because we have less fraud via uid than Ip adress\n",
    "If CTR> 50%, ie if a customer clicks more than once on two times on an ad, the corresponding events are considered as suspicious and we want to detect this pattern\n",
    "In order to not include people who had one display and one click which is not necessarily suspicious, we remove events with exactly 1 click and 1 display"
   ]
  },
  {
   "cell_type": "code",
   "execution_count": 21,
   "metadata": {},
   "outputs": [],
   "source": [
    "df_CTR_ID=  pd.merge(df_displays[[\"uid\",\"displays_count\"]].groupby(\"uid\").count(),df_clicks[[\"uid\", \"clicks_count\"]].groupby(\"uid\").count(), on=[\"uid\"], how=\"outer\")"
   ]
  },
  {
   "cell_type": "code",
   "execution_count": 22,
   "metadata": {},
   "outputs": [
    {
     "data": {
      "text/plain": [
       "(875, 2)"
      ]
     },
     "execution_count": 22,
     "metadata": {},
     "output_type": "execute_result"
    }
   ],
   "source": [
    "df_CTR_ID.shape"
   ]
  },
  {
   "cell_type": "code",
   "execution_count": 23,
   "metadata": {},
   "outputs": [
    {
     "data": {
      "text/plain": [
       "1.0     823\n",
       "15.0      8\n",
       "11.0      6\n",
       "18.0      5\n",
       "14.0      5\n",
       "13.0      5\n",
       "9.0       4\n",
       "17.0      4\n",
       "12.0      4\n",
       "16.0      4\n",
       "21.0      2\n",
       "19.0      2\n",
       "8.0       1\n",
       "2.0       1\n",
       "Name: displays_count, dtype: int64"
      ]
     },
     "execution_count": 23,
     "metadata": {},
     "output_type": "execute_result"
    }
   ],
   "source": [
    "df_CTR_ID.displays_count.value_counts()"
   ]
  },
  {
   "cell_type": "code",
   "execution_count": 24,
   "metadata": {},
   "outputs": [],
   "source": [
    "df_CTR_ID.fillna(0,inplace=True)"
   ]
  },
  {
   "cell_type": "code",
   "execution_count": 25,
   "metadata": {},
   "outputs": [
    {
     "data": {
      "text/plain": [
       "0.0     674\n",
       "1.0     152\n",
       "6.0      10\n",
       "7.0       9\n",
       "4.0       9\n",
       "5.0       7\n",
       "8.0       6\n",
       "3.0       3\n",
       "11.0      2\n",
       "10.0      1\n",
       "9.0       1\n",
       "2.0       1\n",
       "Name: clicks_count, dtype: int64"
      ]
     },
     "execution_count": 25,
     "metadata": {},
     "output_type": "execute_result"
    }
   ],
   "source": [
    "df_CTR_ID.clicks_count.value_counts()"
   ]
  },
  {
   "cell_type": "code",
   "execution_count": 26,
   "metadata": {},
   "outputs": [],
   "source": [
    "df_CTR_ID=df_CTR_ID.assign(CTR = df_CTR_ID['clicks_count']/ df_CTR_ID['displays_count'])"
   ]
  },
  {
   "cell_type": "code",
   "execution_count": 27,
   "metadata": {
    "scrolled": true
   },
   "outputs": [
    {
     "data": {
      "text/html": [
       "<div>\n",
       "<style scoped>\n",
       "    .dataframe tbody tr th:only-of-type {\n",
       "        vertical-align: middle;\n",
       "    }\n",
       "\n",
       "    .dataframe tbody tr th {\n",
       "        vertical-align: top;\n",
       "    }\n",
       "\n",
       "    .dataframe thead th {\n",
       "        text-align: right;\n",
       "    }\n",
       "</style>\n",
       "<table border=\"1\" class=\"dataframe\">\n",
       "  <thead>\n",
       "    <tr style=\"text-align: right;\">\n",
       "      <th></th>\n",
       "      <th>displays_count</th>\n",
       "      <th>clicks_count</th>\n",
       "      <th>CTR</th>\n",
       "    </tr>\n",
       "  </thead>\n",
       "  <tbody>\n",
       "    <tr>\n",
       "      <th>count</th>\n",
       "      <td>875.000000</td>\n",
       "      <td>875.000000</td>\n",
       "      <td>875.0</td>\n",
       "    </tr>\n",
       "    <tr>\n",
       "      <th>mean</th>\n",
       "      <td>1.760000</td>\n",
       "      <td>0.509714</td>\n",
       "      <td>inf</td>\n",
       "    </tr>\n",
       "    <tr>\n",
       "      <th>std</th>\n",
       "      <td>3.179525</td>\n",
       "      <td>1.467679</td>\n",
       "      <td>NaN</td>\n",
       "    </tr>\n",
       "    <tr>\n",
       "      <th>min</th>\n",
       "      <td>0.000000</td>\n",
       "      <td>0.000000</td>\n",
       "      <td>0.0</td>\n",
       "    </tr>\n",
       "    <tr>\n",
       "      <th>25%</th>\n",
       "      <td>1.000000</td>\n",
       "      <td>0.000000</td>\n",
       "      <td>0.0</td>\n",
       "    </tr>\n",
       "    <tr>\n",
       "      <th>50%</th>\n",
       "      <td>1.000000</td>\n",
       "      <td>0.000000</td>\n",
       "      <td>0.0</td>\n",
       "    </tr>\n",
       "    <tr>\n",
       "      <th>75%</th>\n",
       "      <td>1.000000</td>\n",
       "      <td>0.000000</td>\n",
       "      <td>0.0</td>\n",
       "    </tr>\n",
       "    <tr>\n",
       "      <th>max</th>\n",
       "      <td>21.000000</td>\n",
       "      <td>11.000000</td>\n",
       "      <td>inf</td>\n",
       "    </tr>\n",
       "  </tbody>\n",
       "</table>\n",
       "</div>"
      ],
      "text/plain": [
       "       displays_count  clicks_count    CTR\n",
       "count      875.000000    875.000000  875.0\n",
       "mean         1.760000      0.509714    inf\n",
       "std          3.179525      1.467679    NaN\n",
       "min          0.000000      0.000000    0.0\n",
       "25%          1.000000      0.000000    0.0\n",
       "50%          1.000000      0.000000    0.0\n",
       "75%          1.000000      0.000000    0.0\n",
       "max         21.000000     11.000000    inf"
      ]
     },
     "execution_count": 27,
     "metadata": {},
     "output_type": "execute_result"
    }
   ],
   "source": [
    "df_CTR_ID.describe()"
   ]
  },
  {
   "cell_type": "markdown",
   "metadata": {},
   "source": [
    "__there is a uid with a click and without display, but this is due to a delay in receiving the corresponding display event we delete this uid from the data__  \n",
    "__We also delete the uids which have 1 click and 1 display__"
   ]
  },
  {
   "cell_type": "code",
   "execution_count": 28,
   "metadata": {
    "scrolled": true
   },
   "outputs": [
    {
     "data": {
      "text/html": [
       "<div>\n",
       "<style scoped>\n",
       "    .dataframe tbody tr th:only-of-type {\n",
       "        vertical-align: middle;\n",
       "    }\n",
       "\n",
       "    .dataframe tbody tr th {\n",
       "        vertical-align: top;\n",
       "    }\n",
       "\n",
       "    .dataframe thead th {\n",
       "        text-align: right;\n",
       "    }\n",
       "</style>\n",
       "<table border=\"1\" class=\"dataframe\">\n",
       "  <thead>\n",
       "    <tr style=\"text-align: right;\">\n",
       "      <th></th>\n",
       "      <th>eventType</th>\n",
       "      <th>uid</th>\n",
       "      <th>timestamp</th>\n",
       "      <th>ip</th>\n",
       "      <th>impressionId</th>\n",
       "    </tr>\n",
       "  </thead>\n",
       "  <tbody>\n",
       "    <tr>\n",
       "      <th>1893</th>\n",
       "      <td>click</td>\n",
       "      <td>6a0f34ea-2700-4ca2-b21b-ba315f5d5f8e19</td>\n",
       "      <td>1589157684</td>\n",
       "      <td>238.186.83.58</td>\n",
       "      <td>c6fd074f-4704-41ee-bedd-b347c8cae21d</td>\n",
       "    </tr>\n",
       "  </tbody>\n",
       "</table>\n",
       "</div>"
      ],
      "text/plain": [
       "     eventType                                     uid   timestamp  \\\n",
       "1893     click  6a0f34ea-2700-4ca2-b21b-ba315f5d5f8e19  1589157684   \n",
       "\n",
       "                 ip                          impressionId  \n",
       "1893  238.186.83.58  c6fd074f-4704-41ee-bedd-b347c8cae21d  "
      ]
     },
     "execution_count": 28,
     "metadata": {},
     "output_type": "execute_result"
    }
   ],
   "source": [
    "df_output[df_output['uid']=='6a0f34ea-2700-4ca2-b21b-ba315f5d5f8e19']"
   ]
  },
  {
   "cell_type": "code",
   "execution_count": 29,
   "metadata": {},
   "outputs": [
    {
     "name": "stdout",
     "output_type": "stream",
     "text": [
      "2020-05-11 02:41:24\n"
     ]
    }
   ],
   "source": [
    "print(datetime.fromtimestamp(1589157684))"
   ]
  },
  {
   "cell_type": "code",
   "execution_count": 30,
   "metadata": {},
   "outputs": [],
   "source": [
    "df_CTR_ID.drop(index=\"6a0f34ea-2700-4ca2-b21b-ba315f5d5f8e19\", axis=0, inplace=True)"
   ]
  },
  {
   "cell_type": "code",
   "execution_count": 31,
   "metadata": {},
   "outputs": [],
   "source": [
    "index=df_CTR_ID[(df_CTR_ID[\"displays_count\"]==1)&(df_CTR_ID['clicks_count']==1)].index\n",
    "df_CTR_ID.drop(index=index, axis=0,inplace=True)"
   ]
  },
  {
   "cell_type": "code",
   "execution_count": 32,
   "metadata": {},
   "outputs": [
    {
     "name": "stdout",
     "output_type": "stream",
     "text": [
      "number of events with suspicious CTR :  11\n"
     ]
    }
   ],
   "source": [
    "print(\"number of events with suspicious CTR : \" , len(df_CTR_ID[df_CTR_ID[\"CTR\"]>0.5]))"
   ]
  },
  {
   "cell_type": "code",
   "execution_count": null,
   "metadata": {},
   "outputs": [],
   "source": []
  }
 ],
 "metadata": {
  "kernelspec": {
   "display_name": "Python 3",
   "language": "python",
   "name": "python3"
  },
  "language_info": {
   "codemirror_mode": {
    "name": "ipython",
    "version": 3
   },
   "file_extension": ".py",
   "mimetype": "text/x-python",
   "name": "python",
   "nbconvert_exporter": "python",
   "pygments_lexer": "ipython3",
   "version": "3.7.6"
  }
 },
 "nbformat": 4,
 "nbformat_minor": 4
}
